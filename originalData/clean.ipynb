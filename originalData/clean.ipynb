{
 "cells": [
  {
   "cell_type": "code",
   "execution_count": 1,
   "metadata": {},
   "outputs": [],
   "source": [
    "import pandas as pd"
   ]
  },
  {
   "cell_type": "code",
   "execution_count": 2,
   "metadata": {},
   "outputs": [
    {
     "name": "stdout",
     "output_type": "stream",
     "text": [
      "            Brewer                             Name  Alc   Country  Rating  \\\n",
      "0  Thisted bryghus                          Classic  4,6   Danmark       6   \n",
      "1  Thisted bryghus                  Økologiks Humle  5,8   Danmark       7   \n",
      "2  Thisted bryghus                      Jack & beer    8   Danmark       7   \n",
      "3  Thisted bryghus                 Limfjords porter  7,9   Danmark       6   \n",
      "4  Thisted bryghus  Limfjordes porter Whisky fad 49  8,5  Danmark        8   \n",
      "\n",
      "  price  \n",
      "0   NaN  \n",
      "1   NaN  \n",
      "2   NaN  \n",
      "3   NaN  \n",
      "4   NaN  \n",
      "<class 'pandas.core.frame.DataFrame'>\n",
      "RangeIndex: 160 entries, 0 to 159\n",
      "Data columns (total 6 columns):\n",
      " #   Column   Non-Null Count  Dtype \n",
      "---  ------   --------------  ----- \n",
      " 0   Brewer   145 non-null    object\n",
      " 1   Name     160 non-null    object\n",
      " 2   Alc      160 non-null    object\n",
      " 3   Country  160 non-null    object\n",
      " 4   Rating   160 non-null    int64 \n",
      " 5   price    6 non-null      object\n",
      "dtypes: int64(1), object(5)\n",
      "memory usage: 7.6+ KB\n",
      "None\n"
     ]
    }
   ],
   "source": [
    "filePath = \"data.csv\"\n",
    "file = pd.read_csv(filePath)\n",
    "print(file.head())\n",
    "print(file.info())"
   ]
  },
  {
   "cell_type": "code",
   "execution_count": 3,
   "metadata": {},
   "outputs": [
    {
     "name": "stdout",
     "output_type": "stream",
     "text": [
      "Brewer     object\n",
      "Name       object\n",
      "Alc        object\n",
      "Country    object\n",
      "Rating      int64\n",
      "price      object\n",
      "dtype: object\n",
      "Brewer      15\n",
      "Name         0\n",
      "Alc          0\n",
      "Country      0\n",
      "Rating       0\n",
      "price      154\n",
      "dtype: int64\n"
     ]
    }
   ],
   "source": [
    "file.astype({'Country': 'string'}).dtypes\n",
    "print(file.dtypes)\n",
    "print(file.isnull().sum())"
   ]
  },
  {
   "cell_type": "code",
   "execution_count": 4,
   "metadata": {},
   "outputs": [
    {
     "name": "stdout",
     "output_type": "stream",
     "text": [
      "['denmark' 'england' 'german' 'belgian' 'italy' 'usa' 'poland' 'mexico'\n",
      " 'estonia' 'Czech ' 'china' 'netherland']\n",
      "            Brewer                             Name  Alc  Country  Rating  \\\n",
      "0  Thisted bryghus                          Classic  4.6  denmark       6   \n",
      "1  Thisted bryghus                  Økologiks Humle  5.8  denmark       7   \n",
      "2  Thisted bryghus                      Jack & beer    8  denmark       7   \n",
      "3  Thisted bryghus                 Limfjords porter  7.9  denmark       6   \n",
      "4  Thisted bryghus  Limfjordes porter Whisky fad 49  8.5  denmark       8   \n",
      "\n",
      "  price  \n",
      "0   NaN  \n",
      "1   NaN  \n",
      "2   NaN  \n",
      "3   NaN  \n",
      "4   NaN  \n"
     ]
    }
   ],
   "source": [
    "file[\"Alc\"] = file['Alc'].replace(regex=r',', value='.')\n",
    "file[\"price\"] = file['price'].replace(regex=r',', value='.')\n",
    "file['Country'] = file['Country'].str.lower()\n",
    "file[\"Country\"] = file['Country'].replace(regex=r' ', value='')\n",
    "file[\"Brewer\"] = file['Brewer'].astype(str)\n",
    "file[\"Brewer\"] = file['Brewer'].apply(lambda x: x.strip())\n",
    "\n",
    "\n",
    "#Translate\n",
    "file[\"Country\"] = file['Country'].replace(regex=r'danmark', value='denmark')\n",
    "file[\"Country\"] = file['Country'].replace(regex=r'tyskland', value='german')\n",
    "file[\"Country\"] = file['Country'].replace(regex=r'belgien', value='belgian')\n",
    "file[\"Country\"] = file['Country'].replace(regex=r'italien', value='italy')\n",
    "file[\"Country\"] = file['Country'].replace(regex=r'amerika', value='usa')\n",
    "file[\"Country\"] = file['Country'].replace(regex=r'polen', value='poland')\n",
    "file[\"Country\"] = file['Country'].replace(regex=r'estland', value='estonia')\n",
    "file[\"Country\"] = file['Country'].replace(regex=r'tjekkiet', value='Czech ')\n",
    "file[\"Country\"] = file['Country'].replace(regex=r'kina', value='china')\n",
    "file[\"Country\"] = file['Country'].replace(regex=r'holland', value='netherland')\n",
    "\n",
    "#spelling\n",
    "file[\"Country\"] = file['Country'].replace(regex=r'danmrk', value='denmark')\n",
    "file[\"Country\"] = file['Country'].replace(regex=r'denmrk', value='denmark')\n",
    "file[\"Country\"] = file['Country'].replace(regex=r'danamrk', value='denmark')\n",
    "file[\"Country\"] = file['Country'].replace(regex=r'dannark', value='denmark')\n",
    "file[\"Country\"] = file['Country'].replace(regex=r'belgium', value='belgian')\n",
    "\n",
    "print(file['Country'].unique())\n",
    "print(file.head())"
   ]
  },
  {
   "cell_type": "code",
   "execution_count": 5,
   "metadata": {},
   "outputs": [],
   "source": [
    "file.to_csv('new_data.csv', index=False, encoding ='latin1')"
   ]
  }
 ],
 "metadata": {
  "kernelspec": {
   "display_name": "base",
   "language": "python",
   "name": "python3"
  },
  "language_info": {
   "codemirror_mode": {
    "name": "ipython",
    "version": 3
   },
   "file_extension": ".py",
   "mimetype": "text/x-python",
   "name": "python",
   "nbconvert_exporter": "python",
   "pygments_lexer": "ipython3",
   "version": "3.10.11"
  },
  "orig_nbformat": 4
 },
 "nbformat": 4,
 "nbformat_minor": 2
}
