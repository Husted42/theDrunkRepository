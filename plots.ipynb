{
 "cells": [
  {
   "attachments": {},
   "cell_type": "markdown",
   "metadata": {},
   "source": [
    "# Imports"
   ]
  },
  {
   "cell_type": "code",
   "execution_count": 13,
   "metadata": {},
   "outputs": [],
   "source": [
    "import os\n",
    "import pandas as pd\n",
    "import numpy as np\n",
    "import matplotlib.pyplot as plt"
   ]
  },
  {
   "cell_type": "code",
   "execution_count": 14,
   "metadata": {},
   "outputs": [],
   "source": [
    "data_path = os.path.join(os.getcwd(), \"originalData\")\n",
    "df = pd.read_csv(os.path.join(data_path, \"new_data.csv\"), encoding=\"latin1\" )"
   ]
  },
  {
   "cell_type": "code",
   "execution_count": 15,
   "metadata": {},
   "outputs": [
    {
     "data": {
      "text/html": [
       "<div>\n",
       "<style scoped>\n",
       "    .dataframe tbody tr th:only-of-type {\n",
       "        vertical-align: middle;\n",
       "    }\n",
       "\n",
       "    .dataframe tbody tr th {\n",
       "        vertical-align: top;\n",
       "    }\n",
       "\n",
       "    .dataframe thead th {\n",
       "        text-align: right;\n",
       "    }\n",
       "</style>\n",
       "<table border=\"1\" class=\"dataframe\">\n",
       "  <thead>\n",
       "    <tr style=\"text-align: right;\">\n",
       "      <th></th>\n",
       "      <th>Brewer</th>\n",
       "      <th>Name</th>\n",
       "      <th>Alc</th>\n",
       "      <th>Country</th>\n",
       "      <th>Rating</th>\n",
       "      <th>price</th>\n",
       "    </tr>\n",
       "  </thead>\n",
       "  <tbody>\n",
       "    <tr>\n",
       "      <th>0</th>\n",
       "      <td>Thisted bryghus</td>\n",
       "      <td>Classic</td>\n",
       "      <td>4.6</td>\n",
       "      <td>denmark</td>\n",
       "      <td>6</td>\n",
       "      <td>NaN</td>\n",
       "    </tr>\n",
       "    <tr>\n",
       "      <th>1</th>\n",
       "      <td>Thisted bryghus</td>\n",
       "      <td>Økologiks Humle</td>\n",
       "      <td>5.8</td>\n",
       "      <td>denmark</td>\n",
       "      <td>7</td>\n",
       "      <td>NaN</td>\n",
       "    </tr>\n",
       "    <tr>\n",
       "      <th>2</th>\n",
       "      <td>Thisted bryghus</td>\n",
       "      <td>Jack &amp; beer</td>\n",
       "      <td>8.0</td>\n",
       "      <td>denmark</td>\n",
       "      <td>7</td>\n",
       "      <td>NaN</td>\n",
       "    </tr>\n",
       "    <tr>\n",
       "      <th>3</th>\n",
       "      <td>Thisted bryghus</td>\n",
       "      <td>Limfjords porter</td>\n",
       "      <td>7.9</td>\n",
       "      <td>denmark</td>\n",
       "      <td>6</td>\n",
       "      <td>NaN</td>\n",
       "    </tr>\n",
       "    <tr>\n",
       "      <th>4</th>\n",
       "      <td>Thisted bryghus</td>\n",
       "      <td>Limfjordes porter Whisky fad 49</td>\n",
       "      <td>8.5</td>\n",
       "      <td>denmark</td>\n",
       "      <td>8</td>\n",
       "      <td>NaN</td>\n",
       "    </tr>\n",
       "  </tbody>\n",
       "</table>\n",
       "</div>"
      ],
      "text/plain": [
       "            Brewer                             Name  Alc  Country  Rating  \\\n",
       "0  Thisted bryghus                          Classic  4.6  denmark       6   \n",
       "1  Thisted bryghus                  Økologiks Humle  5.8  denmark       7   \n",
       "2  Thisted bryghus                      Jack & beer  8.0  denmark       7   \n",
       "3  Thisted bryghus                 Limfjords porter  7.9  denmark       6   \n",
       "4  Thisted bryghus  Limfjordes porter Whisky fad 49  8.5  denmark       8   \n",
       "\n",
       "   price  \n",
       "0    NaN  \n",
       "1    NaN  \n",
       "2    NaN  \n",
       "3    NaN  \n",
       "4    NaN  "
      ]
     },
     "execution_count": 15,
     "metadata": {},
     "output_type": "execute_result"
    }
   ],
   "source": [
    "df.head()"
   ]
  },
  {
   "attachments": {},
   "cell_type": "markdown",
   "metadata": {},
   "source": [
    "# Plots"
   ]
  },
  {
   "cell_type": "code",
   "execution_count": 23,
   "metadata": {},
   "outputs": [
    {
     "name": "stdout",
     "output_type": "stream",
     "text": [
      "         index  Country\n",
      "0      denmark      109\n",
      "1       german       19\n",
      "2      belgian       16\n",
      "3      england        5\n",
      "4        italy        3\n",
      "5          usa        2\n",
      "6       poland        1\n",
      "7       mexico        1\n",
      "8      estonia        1\n",
      "9       Czech         1\n",
      "10       china        1\n",
      "11  netherland        1\n",
      "['denmark', 'german', 'belgian', 'england']\n",
      "       Country    Rating\n",
      "0       Czech   6.000000\n",
      "1      belgian  7.250000\n",
      "2        china  4.000000\n",
      "3      denmark  6.110092\n",
      "4      england  6.200000\n",
      "5      estonia  3.000000\n",
      "6       german  6.368421\n",
      "7        italy  8.000000\n",
      "8       mexico  4.000000\n",
      "9   netherland  7.000000\n",
      "10      poland  1.000000\n",
      "11         usa  3.000000\n",
      "   Country    Rating\n",
      "1  belgian  7.250000\n",
      "3  denmark  6.110092\n",
      "4  england  6.200000\n",
      "6   german  6.368421\n"
     ]
    },
    {
     "data": {
      "image/png": "[encoded data removed]",
      "text/plain": [
       "<Figure size 640x480 with 1 Axes>"
      ]
     },
     "metadata": {},
     "output_type": "display_data"
    },
    {
     "name": "stdout",
     "output_type": "stream",
     "text": [
      "(5, 8)\n"
     ]
    }
   ],
   "source": [
    "def avgByCoun():\n",
    "    keepers = df.copy(deep=True)\n",
    "    keepers = keepers['Country'].value_counts().reset_index()\n",
    "    print(keepers)\n",
    "    keepers = keepers[keepers['Country'] > 3]\n",
    "    keepers = list(keepers.pop('index'))\n",
    "    print(keepers)\n",
    "\n",
    "    df_avgByCoun = df.groupby(['Country'])['Rating'].mean().reset_index()\n",
    "    print(df_avgByCoun)\n",
    "    df_avgByCoun = df_avgByCoun[df_avgByCoun['Country'].isin(keepers)]\n",
    "    print(df_avgByCoun)\n",
    "    df_avgByCoun = df_avgByCoun.sort_values(by=['Rating'])\n",
    "    df_avgByCoun['Country'] = df_avgByCoun['Country'].str.capitalize()\n",
    "    \n",
    "    default_x_ticks = (round(min(df_avgByCoun['Rating']))) - 1, (round(max(df_avgByCoun['Rating'])) + 1)\n",
    "    y = list(df_avgByCoun.pop('Country'))\n",
    "    x = list(df_avgByCoun.pop('Rating'))\n",
    "    plt.barh(width=x, y=y, color = 'Blue')\n",
    "    plt.xlim(default_x_ticks)\n",
    "    plt.title(\"Average rating based on country\")\n",
    "    plt.show()\n",
    "    return default_x_ticks\n",
    "\n",
    "print(avgByCoun())"
   ]
  },
  {
   "cell_type": "code",
   "execution_count": 17,
   "metadata": {},
   "outputs": [
    {
     "ename": "KeyError",
     "evalue": "'count'",
     "output_type": "error",
     "traceback": [
      "\u001b[1;31m---------------------------------------------------------------------------\u001b[0m",
      "\u001b[1;31mKeyError\u001b[0m                                  Traceback (most recent call last)",
      "\u001b[1;32mc:\\Users\\Husted\\anaconda3\\lib\\site-packages\\pandas\\core\\indexes\\base.py\u001b[0m in \u001b[0;36mget_loc\u001b[1;34m(self, key, method, tolerance)\u001b[0m\n\u001b[0;32m   3628\u001b[0m             \u001b[1;32mtry\u001b[0m\u001b[1;33m:\u001b[0m\u001b[1;33m\u001b[0m\u001b[1;33m\u001b[0m\u001b[0m\n\u001b[1;32m-> 3629\u001b[1;33m                 \u001b[1;32mreturn\u001b[0m \u001b[0mself\u001b[0m\u001b[1;33m.\u001b[0m\u001b[0m_engine\u001b[0m\u001b[1;33m.\u001b[0m\u001b[0mget_loc\u001b[0m\u001b[1;33m(\u001b[0m\u001b[0mcasted_key\u001b[0m\u001b[1;33m)\u001b[0m\u001b[1;33m\u001b[0m\u001b[1;33m\u001b[0m\u001b[0m\n\u001b[0m\u001b[0;32m   3630\u001b[0m             \u001b[1;32mexcept\u001b[0m \u001b[0mKeyError\u001b[0m \u001b[1;32mas\u001b[0m \u001b[0merr\u001b[0m\u001b[1;33m:\u001b[0m\u001b[1;33m\u001b[0m\u001b[1;33m\u001b[0m\u001b[0m\n",
      "\u001b[1;32mc:\\Users\\Husted\\anaconda3\\lib\\site-packages\\pandas\\_libs\\index.pyx\u001b[0m in \u001b[0;36mpandas._libs.index.IndexEngine.get_loc\u001b[1;34m()\u001b[0m\n",
      "\u001b[1;32mc:\\Users\\Husted\\anaconda3\\lib\\site-packages\\pandas\\_libs\\index.pyx\u001b[0m in \u001b[0;36mpandas._libs.index.IndexEngine.get_loc\u001b[1;34m()\u001b[0m\n",
      "\u001b[1;32mpandas\\_libs\\hashtable_class_helper.pxi\u001b[0m in \u001b[0;36mpandas._libs.hashtable.PyObjectHashTable.get_item\u001b[1;34m()\u001b[0m\n",
      "\u001b[1;32mpandas\\_libs\\hashtable_class_helper.pxi\u001b[0m in \u001b[0;36mpandas._libs.hashtable.PyObjectHashTable.get_item\u001b[1;34m()\u001b[0m\n",
      "\u001b[1;31mKeyError\u001b[0m: 'count'",
      "\nThe above exception was the direct cause of the following exception:\n",
      "\u001b[1;31mKeyError\u001b[0m                                  Traceback (most recent call last)",
      "\u001b[1;32m~\\AppData\\Local\\Temp\\ipykernel_12132\\1825110358.py\u001b[0m in \u001b[0;36m<module>\u001b[1;34m\u001b[0m\n\u001b[0;32m     20\u001b[0m     \u001b[0mplt\u001b[0m\u001b[1;33m.\u001b[0m\u001b[0mshow\u001b[0m\u001b[1;33m(\u001b[0m\u001b[1;33m)\u001b[0m\u001b[1;33m\u001b[0m\u001b[1;33m\u001b[0m\u001b[0m\n\u001b[0;32m     21\u001b[0m \u001b[1;33m\u001b[0m\u001b[0m\n\u001b[1;32m---> 22\u001b[1;33m \u001b[0mavgByBrew\u001b[0m\u001b[1;33m(\u001b[0m\u001b[1;33m)\u001b[0m\u001b[1;33m\u001b[0m\u001b[1;33m\u001b[0m\u001b[0m\n\u001b[0m",
      "\u001b[1;32m~\\AppData\\Local\\Temp\\ipykernel_12132\\1825110358.py\u001b[0m in \u001b[0;36mavgByBrew\u001b[1;34m()\u001b[0m\n\u001b[0;32m      2\u001b[0m     \u001b[0mkeepers\u001b[0m \u001b[1;33m=\u001b[0m \u001b[0mdf\u001b[0m\u001b[1;33m.\u001b[0m\u001b[0mcopy\u001b[0m\u001b[1;33m(\u001b[0m\u001b[0mdeep\u001b[0m\u001b[1;33m=\u001b[0m\u001b[1;32mTrue\u001b[0m\u001b[1;33m)\u001b[0m\u001b[1;33m\u001b[0m\u001b[1;33m\u001b[0m\u001b[0m\n\u001b[0;32m      3\u001b[0m     \u001b[0mkeepers\u001b[0m \u001b[1;33m=\u001b[0m \u001b[0mkeepers\u001b[0m\u001b[1;33m[\u001b[0m\u001b[1;34m'Brewer'\u001b[0m\u001b[1;33m]\u001b[0m\u001b[1;33m.\u001b[0m\u001b[0mvalue_counts\u001b[0m\u001b[1;33m(\u001b[0m\u001b[1;33m)\u001b[0m\u001b[1;33m.\u001b[0m\u001b[0mreset_index\u001b[0m\u001b[1;33m(\u001b[0m\u001b[1;33m)\u001b[0m\u001b[1;33m\u001b[0m\u001b[1;33m\u001b[0m\u001b[0m\n\u001b[1;32m----> 4\u001b[1;33m     \u001b[0mkeepers\u001b[0m \u001b[1;33m=\u001b[0m \u001b[0mkeepers\u001b[0m\u001b[1;33m[\u001b[0m\u001b[0mkeepers\u001b[0m\u001b[1;33m[\u001b[0m\u001b[1;34m'count'\u001b[0m\u001b[1;33m]\u001b[0m \u001b[1;33m>\u001b[0m \u001b[1;36m2\u001b[0m\u001b[1;33m]\u001b[0m\u001b[1;33m\u001b[0m\u001b[1;33m\u001b[0m\u001b[0m\n\u001b[0m\u001b[0;32m      5\u001b[0m     \u001b[0mkeepers\u001b[0m \u001b[1;33m=\u001b[0m \u001b[0mlist\u001b[0m\u001b[1;33m(\u001b[0m\u001b[0mkeepers\u001b[0m\u001b[1;33m.\u001b[0m\u001b[0mpop\u001b[0m\u001b[1;33m(\u001b[0m\u001b[1;34m'Brewer'\u001b[0m\u001b[1;33m)\u001b[0m\u001b[1;33m)\u001b[0m\u001b[1;33m\u001b[0m\u001b[1;33m\u001b[0m\u001b[0m\n\u001b[0;32m      6\u001b[0m     \u001b[0mkeepers\u001b[0m\u001b[1;33m.\u001b[0m\u001b[0mremove\u001b[0m\u001b[1;33m(\u001b[0m\u001b[1;34m'na'\u001b[0m\u001b[1;33m)\u001b[0m\u001b[1;33m\u001b[0m\u001b[1;33m\u001b[0m\u001b[0m\n",
      "\u001b[1;32mc:\\Users\\Husted\\anaconda3\\lib\\site-packages\\pandas\\core\\frame.py\u001b[0m in \u001b[0;36m__getitem__\u001b[1;34m(self, key)\u001b[0m\n\u001b[0;32m   3503\u001b[0m             \u001b[1;32mif\u001b[0m \u001b[0mself\u001b[0m\u001b[1;33m.\u001b[0m\u001b[0mcolumns\u001b[0m\u001b[1;33m.\u001b[0m\u001b[0mnlevels\u001b[0m \u001b[1;33m>\u001b[0m \u001b[1;36m1\u001b[0m\u001b[1;33m:\u001b[0m\u001b[1;33m\u001b[0m\u001b[1;33m\u001b[0m\u001b[0m\n\u001b[0;32m   3504\u001b[0m                 \u001b[1;32mreturn\u001b[0m \u001b[0mself\u001b[0m\u001b[1;33m.\u001b[0m\u001b[0m_getitem_multilevel\u001b[0m\u001b[1;33m(\u001b[0m\u001b[0mkey\u001b[0m\u001b[1;33m)\u001b[0m\u001b[1;33m\u001b[0m\u001b[1;33m\u001b[0m\u001b[0m\n\u001b[1;32m-> 3505\u001b[1;33m             \u001b[0mindexer\u001b[0m \u001b[1;33m=\u001b[0m \u001b[0mself\u001b[0m\u001b[1;33m.\u001b[0m\u001b[0mcolumns\u001b[0m\u001b[1;33m.\u001b[0m\u001b[0mget_loc\u001b[0m\u001b[1;33m(\u001b[0m\u001b[0mkey\u001b[0m\u001b[1;33m)\u001b[0m\u001b[1;33m\u001b[0m\u001b[1;33m\u001b[0m\u001b[0m\n\u001b[0m\u001b[0;32m   3506\u001b[0m             \u001b[1;32mif\u001b[0m \u001b[0mis_integer\u001b[0m\u001b[1;33m(\u001b[0m\u001b[0mindexer\u001b[0m\u001b[1;33m)\u001b[0m\u001b[1;33m:\u001b[0m\u001b[1;33m\u001b[0m\u001b[1;33m\u001b[0m\u001b[0m\n\u001b[0;32m   3507\u001b[0m                 \u001b[0mindexer\u001b[0m \u001b[1;33m=\u001b[0m \u001b[1;33m[\u001b[0m\u001b[0mindexer\u001b[0m\u001b[1;33m]\u001b[0m\u001b[1;33m\u001b[0m\u001b[1;33m\u001b[0m\u001b[0m\n",
      "\u001b[1;32mc:\\Users\\Husted\\anaconda3\\lib\\site-packages\\pandas\\core\\indexes\\base.py\u001b[0m in \u001b[0;36mget_loc\u001b[1;34m(self, key, method, tolerance)\u001b[0m\n\u001b[0;32m   3629\u001b[0m                 \u001b[1;32mreturn\u001b[0m \u001b[0mself\u001b[0m\u001b[1;33m.\u001b[0m\u001b[0m_engine\u001b[0m\u001b[1;33m.\u001b[0m\u001b[0mget_loc\u001b[0m\u001b[1;33m(\u001b[0m\u001b[0mcasted_key\u001b[0m\u001b[1;33m)\u001b[0m\u001b[1;33m\u001b[0m\u001b[1;33m\u001b[0m\u001b[0m\n\u001b[0;32m   3630\u001b[0m             \u001b[1;32mexcept\u001b[0m \u001b[0mKeyError\u001b[0m \u001b[1;32mas\u001b[0m \u001b[0merr\u001b[0m\u001b[1;33m:\u001b[0m\u001b[1;33m\u001b[0m\u001b[1;33m\u001b[0m\u001b[0m\n\u001b[1;32m-> 3631\u001b[1;33m                 \u001b[1;32mraise\u001b[0m \u001b[0mKeyError\u001b[0m\u001b[1;33m(\u001b[0m\u001b[0mkey\u001b[0m\u001b[1;33m)\u001b[0m \u001b[1;32mfrom\u001b[0m \u001b[0merr\u001b[0m\u001b[1;33m\u001b[0m\u001b[1;33m\u001b[0m\u001b[0m\n\u001b[0m\u001b[0;32m   3632\u001b[0m             \u001b[1;32mexcept\u001b[0m \u001b[0mTypeError\u001b[0m\u001b[1;33m:\u001b[0m\u001b[1;33m\u001b[0m\u001b[1;33m\u001b[0m\u001b[0m\n\u001b[0;32m   3633\u001b[0m                 \u001b[1;31m# If we have a listlike key, _check_indexing_error will raise\u001b[0m\u001b[1;33m\u001b[0m\u001b[1;33m\u001b[0m\u001b[0m\n",
      "\u001b[1;31mKeyError\u001b[0m: 'count'"
     ]
    }
   ],
   "source": [
    "def avgByBrew():\n",
    "    keepers = df.copy(deep=True)\n",
    "    keepers = keepers['Brewer'].value_counts().reset_index()\n",
    "    keepers = keepers[keepers['count'] > 2]\n",
    "    keepers = list(keepers.pop('Brewer'))\n",
    "    keepers.remove('na')\n",
    "\n",
    "    df_avgByCoun = df.groupby(['Brewer'])['Rating'].mean().reset_index()\n",
    "    df_avgByCoun = df_avgByCoun[df_avgByCoun['Brewer'].isin(keepers)]\n",
    "    df_avgByCoun = df_avgByCoun.sort_values(by=['Rating'], ascending=False)\n",
    "    df_avgByCoun['Brewer'] = df_avgByCoun['Brewer'].str.capitalize()\n",
    "    \n",
    "    x = list(df_avgByCoun.pop('Brewer'))[-15:]\n",
    "    y = list(df_avgByCoun.pop('Rating'))[-15:]\n",
    "    plt.figure(figsize=(10,6))\n",
    "    plt.bar(x=x, height=y, color = 'Blue')\n",
    "    plt.title(\"Average rating based on Brewer\")\n",
    "    plt.ylim((5,10))\n",
    "    plt.xticks(rotation = 45)\n",
    "    plt.show()\n",
    "\n",
    "avgByBrew()\n"
   ]
  },
  {
   "cell_type": "code",
   "execution_count": null,
   "metadata": {},
   "outputs": [
    {
     "data": {
      "image/png": "[encoded data removed]",
      "text/plain": [
       "<Figure size 600x300 with 1 Axes>"
      ]
     },
     "metadata": {},
     "output_type": "display_data"
    }
   ],
   "source": [
    "def donoutChart():\n",
    "    fig, ax = plt.subplots(figsize=(6, 3), subplot_kw=dict(aspect=\"equal\"))\n",
    "    data = df.copy(deep=True)\n",
    "    data = data['Country'].value_counts().reset_index()\n",
    "    data = data.sort_values(by=['count'], ascending=False)\n",
    "    data.loc[data['count'] < 3, 'Country'] = \"other\"\n",
    "    data = data.groupby(['Country'])['count'].sum().reset_index()\n",
    "    labels = list(data.pop('Country'))\n",
    "    count = list(data.pop('count'))\n",
    "    wedges, texts = ax.pie(count, wedgeprops=dict(width=0.5), startangle=-40)\n",
    "\n",
    "    bbox_props = dict(boxstyle=\"square,pad=0.3\", fc=\"w\", ec=\"k\", lw=0.72)\n",
    "    kw = dict(arrowprops=dict(arrowstyle=\"-\"),\n",
    "        bbox=bbox_props, zorder=0, va=\"center\")\n",
    "\n",
    "    for i, p in enumerate(wedges):\n",
    "        ang = (p.theta2 - p.theta1)/2. + p.theta1\n",
    "        y = np.sin(np.deg2rad(ang))\n",
    "        x = np.cos(np.deg2rad(ang))\n",
    "        horizontalalignment = {-1: \"right\", 1: \"left\"}[int(np.sign(x))]\n",
    "        connectionstyle = f\"angle,angleA=0,angleB={ang}\"\n",
    "        kw[\"arrowprops\"].update({\"connectionstyle\": connectionstyle})\n",
    "        ax.annotate(labels[i], xy=(x, y), xytext=(1.35*np.sign(x), 1.4*y),\n",
    "            horizontalalignment=horizontalalignment, **kw)\n",
    "\n",
    "    ax.set_title(\"Distribution of beer count by country\", y=1.05)\n",
    "    plt.show()\n",
    "\n",
    "donoutChart()"
   ]
  },
  {
   "cell_type": "code",
   "execution_count": null,
   "metadata": {},
   "outputs": [
    {
     "data": {
      "text/plain": [
       "array(['Thisted bryghus', 'Guinness', 'Marstons', 'Carlsberg ', 'Tuborg',\n",
       "       'Svaneke', 'Wilemoes', 'Dansk', 'Erdinger', 'Schiøtz', 'Halsnæs',\n",
       "       'Pauliner', 'Berliner', 'Märkischer Landmann', 'Biermischgetränk',\n",
       "       'Czech ', 'Ørbæk', 'Kaiserdom', 'Jacobsen', 'Congerlo', 'Mikkeler',\n",
       "       'Mercurial', 'na', 'Skovlysten', 'Baladin', 'Trapist Rochefort',\n",
       "       'Braunstein', 'BB', nan, 'Midtfyns brghus', 'Bitburger', 'Faxe',\n",
       "       'Refsvindinge ', 'Blance ', 'Albini', 'Godt bryg', 'Frejdahl',\n",
       "       'Amager bryghus', 'Nørrebro bryghus', 'König', 'Innis & Gunn',\n",
       "       'Robinson ', 'Fur', 'Herreford ', 'Littrup', 'Christiania',\n",
       "       'Cerveza', 'Budweisser', 'Steen brugge', 'Alfheim', 'Corona',\n",
       "       'Warsteiner', 'Hansen Braueri', 'Tennents', 'Aura', 'Plzeñ',\n",
       "       'Keizer Karl', 'Affligem', 'Skanderborg ', 'Kloster', 'Raven',\n",
       "       'Gouden', 'Vestfyen', 'Refsvindinge', 'Hancock', 'Rørvig Brygus',\n",
       "       'Bryghuset solvang', 'To Øl', 'Hertog Jan', 'Nibe', 'Kwak',\n",
       "       'Westmalle', 'StFeuillien', 'Indslev Beyggeri'], dtype=object)"
      ]
     },
     "execution_count": 13,
     "metadata": {},
     "output_type": "execute_result"
    }
   ],
   "source": [
    "def getBrewerCont():\n",
    "    data = df.copy(deep=True)\n",
    "    return data['Brewer'].unique().size\n",
    "getBrewerCont()\n"
   ]
  }
 ],
 "metadata": {
  "kernelspec": {
   "display_name": "base",
   "language": "python",
   "name": "python3"
  },
  "language_info": {
   "codemirror_mode": {
    "name": "ipython",
    "version": 3
   },
   "file_extension": ".py",
   "mimetype": "text/x-python",
   "name": "python",
   "nbconvert_exporter": "python",
   "pygments_lexer": "ipython3",
   "version": "3.9.13"
  },
  "orig_nbformat": 4
 },
 "nbformat": 4,
 "nbformat_minor": 2
}
